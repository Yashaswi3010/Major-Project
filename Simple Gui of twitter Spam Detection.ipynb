{
 "cells": [
  {
   "cell_type": "code",
   "execution_count": 26,
   "id": "3dfc405f",
   "metadata": {},
   "outputs": [],
   "source": [
    "import matplotlib.pyplot as plt\n",
    "import seaborn as sns\n",
    "import pandas as pd\n",
    "%matplotlib inline\n",
    "\n",
    "from sklearn.preprocessing import LabelEncoder\n",
    "import string\n",
    "import re\n",
    "import nltk\n",
    "nltk.download('stopwords',quiet=True)\n",
    "\n",
    "from nltk.corpus import stopwords\n",
    "\n",
    "from sklearn.feature_extraction.text import CountVectorizer\n",
    "from sklearn.model_selection import train_test_split\n",
    "from sklearn.naive_bayes import MultinomialNB\n",
    "from sklearn.metrics import classification_report, plot_confusion_matrix, accuracy_score\n",
    "\n",
    "import warnings\n",
    "warnings.filterwarnings(\"ignore\")"
   ]
  },
  {
   "cell_type": "code",
   "execution_count": 27,
   "id": "7ca8b56c",
   "metadata": {},
   "outputs": [
    {
     "data": {
      "text/html": [
       "<div>\n",
       "<style scoped>\n",
       "    .dataframe tbody tr th:only-of-type {\n",
       "        vertical-align: middle;\n",
       "    }\n",
       "\n",
       "    .dataframe tbody tr th {\n",
       "        vertical-align: top;\n",
       "    }\n",
       "\n",
       "    .dataframe thead th {\n",
       "        text-align: right;\n",
       "    }\n",
       "</style>\n",
       "<table border=\"1\" class=\"dataframe\">\n",
       "  <thead>\n",
       "    <tr style=\"text-align: right;\">\n",
       "      <th></th>\n",
       "      <th>label</th>\n",
       "      <th>message</th>\n",
       "      <th>Unnamed: 2</th>\n",
       "      <th>Unnamed: 3</th>\n",
       "      <th>Unnamed: 4</th>\n",
       "    </tr>\n",
       "  </thead>\n",
       "  <tbody>\n",
       "    <tr>\n",
       "      <th>0</th>\n",
       "      <td>0</td>\n",
       "      <td>Go until jurong point, crazy.. Available only ...</td>\n",
       "      <td>NaN</td>\n",
       "      <td>NaN</td>\n",
       "      <td>NaN</td>\n",
       "    </tr>\n",
       "    <tr>\n",
       "      <th>1</th>\n",
       "      <td>0</td>\n",
       "      <td>Ok lar... Joking wif u oni...</td>\n",
       "      <td>NaN</td>\n",
       "      <td>NaN</td>\n",
       "      <td>NaN</td>\n",
       "    </tr>\n",
       "  </tbody>\n",
       "</table>\n",
       "</div>"
      ],
      "text/plain": [
       "   label                                            message Unnamed: 2  \\\n",
       "0      0  Go until jurong point, crazy.. Available only ...        NaN   \n",
       "1      0                      Ok lar... Joking wif u oni...        NaN   \n",
       "\n",
       "  Unnamed: 3 Unnamed: 4  \n",
       "0        NaN        NaN  \n",
       "1        NaN        NaN  "
      ]
     },
     "execution_count": 27,
     "metadata": {},
     "output_type": "execute_result"
    }
   ],
   "source": [
    "df = pd.read_csv('C:/Users/NR/Downloads/Spam Detection/spam.csv',encoding='latin-1')\n",
    "df.rename(columns = {'v1':'label', 'v2':'message'}, inplace=True)\n",
    "df.head(2)"
   ]
  },
  {
   "cell_type": "code",
   "execution_count": 28,
   "id": "5a3bc432",
   "metadata": {},
   "outputs": [
    {
     "name": "stdout",
     "output_type": "stream",
     "text": [
      "Shape of dataset is (5572, 2)\n",
      "Duplicates present 403\n",
      "Shape of dataset after removing duplicates is (5169, 2)\n"
     ]
    }
   ],
   "source": [
    "df = df.drop(columns=[\"Unnamed: 2\",\"Unnamed: 3\",\"Unnamed: 4\"])\n",
    "print(\"Shape of dataset is {}\".format(df.shape))\n",
    "print(\"Duplicates present {}\".format(df.duplicated().sum()))\n",
    "\n",
    "#remove duplicates\n",
    "df.drop_duplicates(inplace=True)\n",
    "\n",
    "print(\"Shape of dataset after removing duplicates is {}\".format(df.shape))"
   ]
  },
  {
   "cell_type": "code",
   "execution_count": 29,
   "id": "b2f405cf",
   "metadata": {},
   "outputs": [
    {
     "data": {
      "text/html": [
       "<div>\n",
       "<style scoped>\n",
       "    .dataframe tbody tr th:only-of-type {\n",
       "        vertical-align: middle;\n",
       "    }\n",
       "\n",
       "    .dataframe tbody tr th {\n",
       "        vertical-align: top;\n",
       "    }\n",
       "\n",
       "    .dataframe thead th {\n",
       "        text-align: right;\n",
       "    }\n",
       "</style>\n",
       "<table border=\"1\" class=\"dataframe\">\n",
       "  <thead>\n",
       "    <tr style=\"text-align: right;\">\n",
       "      <th></th>\n",
       "      <th>label</th>\n",
       "      <th>message</th>\n",
       "    </tr>\n",
       "  </thead>\n",
       "  <tbody>\n",
       "    <tr>\n",
       "      <th>0</th>\n",
       "      <td>0</td>\n",
       "      <td>Go until jurong point, crazy.. Available only ...</td>\n",
       "    </tr>\n",
       "    <tr>\n",
       "      <th>1</th>\n",
       "      <td>0</td>\n",
       "      <td>Ok lar... Joking wif u oni...</td>\n",
       "    </tr>\n",
       "    <tr>\n",
       "      <th>2</th>\n",
       "      <td>1</td>\n",
       "      <td>Free entry in 2 a wkly comp to win FA Cup fina...</td>\n",
       "    </tr>\n",
       "    <tr>\n",
       "      <th>3</th>\n",
       "      <td>0</td>\n",
       "      <td>U dun say so early hor... U c already then say...</td>\n",
       "    </tr>\n",
       "    <tr>\n",
       "      <th>4</th>\n",
       "      <td>0</td>\n",
       "      <td>Nah I don't think he goes to usf, he lives aro...</td>\n",
       "    </tr>\n",
       "  </tbody>\n",
       "</table>\n",
       "</div>"
      ],
      "text/plain": [
       "   label                                            message\n",
       "0      0  Go until jurong point, crazy.. Available only ...\n",
       "1      0                      Ok lar... Joking wif u oni...\n",
       "2      1  Free entry in 2 a wkly comp to win FA Cup fina...\n",
       "3      0  U dun say so early hor... U c already then say...\n",
       "4      0  Nah I don't think he goes to usf, he lives aro..."
      ]
     },
     "execution_count": 29,
     "metadata": {},
     "output_type": "execute_result"
    }
   ],
   "source": [
    "df.head()"
   ]
  },
  {
   "cell_type": "code",
   "execution_count": 30,
   "id": "7adfa445",
   "metadata": {},
   "outputs": [
    {
     "name": "stdout",
     "output_type": "stream",
     "text": [
      "0 means.... [0]\n",
      "1 means.... [1]\n"
     ]
    }
   ],
   "source": [
    "Le = LabelEncoder()\n",
    "df['labe']=Le.fit_transform(df['label'])\n",
    "print('0 means.... {}'.format(Le.inverse_transform([0])))\n",
    "print('1 means.... {}'.format(Le.inverse_transform([1])))"
   ]
  },
  {
   "cell_type": "code",
   "execution_count": 31,
   "id": "42130849",
   "metadata": {},
   "outputs": [
    {
     "data": {
      "text/html": [
       "<div>\n",
       "<style scoped>\n",
       "    .dataframe tbody tr th:only-of-type {\n",
       "        vertical-align: middle;\n",
       "    }\n",
       "\n",
       "    .dataframe tbody tr th {\n",
       "        vertical-align: top;\n",
       "    }\n",
       "\n",
       "    .dataframe thead th {\n",
       "        text-align: right;\n",
       "    }\n",
       "</style>\n",
       "<table border=\"1\" class=\"dataframe\">\n",
       "  <thead>\n",
       "    <tr style=\"text-align: right;\">\n",
       "      <th></th>\n",
       "      <th>label</th>\n",
       "      <th>message</th>\n",
       "      <th>labe</th>\n",
       "    </tr>\n",
       "  </thead>\n",
       "  <tbody>\n",
       "    <tr>\n",
       "      <th>0</th>\n",
       "      <td>0</td>\n",
       "      <td>Go until jurong point, crazy.. Available only ...</td>\n",
       "      <td>0</td>\n",
       "    </tr>\n",
       "    <tr>\n",
       "      <th>1</th>\n",
       "      <td>0</td>\n",
       "      <td>Ok lar... Joking wif u oni...</td>\n",
       "      <td>0</td>\n",
       "    </tr>\n",
       "    <tr>\n",
       "      <th>2</th>\n",
       "      <td>1</td>\n",
       "      <td>Free entry in 2 a wkly comp to win FA Cup fina...</td>\n",
       "      <td>1</td>\n",
       "    </tr>\n",
       "  </tbody>\n",
       "</table>\n",
       "</div>"
      ],
      "text/plain": [
       "   label                                            message  labe\n",
       "0      0  Go until jurong point, crazy.. Available only ...     0\n",
       "1      0                      Ok lar... Joking wif u oni...     0\n",
       "2      1  Free entry in 2 a wkly comp to win FA Cup fina...     1"
      ]
     },
     "execution_count": 31,
     "metadata": {},
     "output_type": "execute_result"
    }
   ],
   "source": [
    "df.head(3)"
   ]
  },
  {
   "cell_type": "code",
   "execution_count": 32,
   "id": "e2d8f0c0",
   "metadata": {},
   "outputs": [],
   "source": [
    "df.to_csv(\"data.csv\", sep='\\t')"
   ]
  },
  {
   "cell_type": "code",
   "execution_count": 33,
   "id": "b4eae0b4",
   "metadata": {},
   "outputs": [
    {
     "data": {
      "image/png": "[encoded data removed]",
      "text/plain": [
       "<Figure size 288x288 with 1 Axes>"
      ]
     },
     "metadata": {
      "needs_background": "light"
     },
     "output_type": "display_data"
    },
    {
     "name": "stdout",
     "output_type": "stream",
     "text": [
      "--------------------------------------------------\n",
      "4516 are not spam and 653 are spam respectivley.\n",
      "--------------------------------------------------\n"
     ]
    }
   ],
   "source": [
    "label_count = df.label.value_counts()\n",
    "from numpy.ma.core import size\n",
    "plt.figure(figsize=(4,4))\n",
    "ax = sns.countplot('label',data = df)\n",
    "plt.xticks(size = 12)\n",
    "plt.xlabel('Labels')\n",
    "plt.yticks(size = 12)\n",
    "plt.ylabel('Count Of Labels')\n",
    "plt.show()\n",
    "print('-'*50)\n",
    "print('{0} are not spam and {1} are spam respectivley.'.format(label_count[0],label_count[1]))\n",
    "print('-'*50)"
   ]
  },
  {
   "cell_type": "code",
   "execution_count": 34,
   "id": "56442da9",
   "metadata": {},
   "outputs": [],
   "source": [
    "def preprocess_text(message):\n",
    "    \n",
    "    \"\"\"\n",
    "    Takes in a string of text, then performs the following:\n",
    "    1. Remove all punctuation\n",
    "    2. Remove all stopwords\n",
    "    3. Returns a list of the cleaned text\n",
    "    \n",
    "    \"\"\"\n",
    "    # Check characters to see if they are in punctuation\n",
    "    # To check punctuations, we will use string.punctuation\n",
    "\n",
    "    without_punc = [char for char in message if char not in string.punctuation]\n",
    "\n",
    "    # Join the characters again to form the string.\n",
    "    without_punc = ''.join(without_punc)\n",
    "    \n",
    "    # Now just remove any stopwords and return the list of the cleaned text\n",
    "    return [word for word in without_punc.split() if word.lower() not in stopwords.words('english')]"
   ]
  },
  {
   "cell_type": "code",
   "execution_count": 35,
   "id": "449ed353",
   "metadata": {},
   "outputs": [
    {
     "data": {
      "text/plain": [
       "0    [Go, jurong, point, crazy, Available, bugis, n...\n",
       "1                       [Ok, lar, Joking, wif, u, oni]\n",
       "Name: message, dtype: object"
      ]
     },
     "execution_count": 35,
     "metadata": {},
     "output_type": "execute_result"
    }
   ],
   "source": [
    "df['message'].apply(preprocess_text).head(2)"
   ]
  },
  {
   "cell_type": "code",
   "execution_count": 36,
   "id": "ac09ffa7",
   "metadata": {},
   "outputs": [],
   "source": [
    "X = df['message'] #text data\n",
    "y = df['label'] #target label\n",
    "\n",
    "# CountVectorizer is used to transform a given text into a vector on the\n",
    "# basis of the frequency (count) of each word that occurs in the entire text\n",
    "\n",
    "cv = CountVectorizer() \n",
    "X =  cv.fit_transform(X)"
   ]
  },
  {
   "cell_type": "code",
   "execution_count": 37,
   "id": "22dcee25",
   "metadata": {},
   "outputs": [],
   "source": [
    "X_train, X_test, y_train, y_test = train_test_split(X, y, test_size=0.20, random_state=0)"
   ]
  },
  {
   "cell_type": "code",
   "execution_count": 38,
   "id": "0ed5c849",
   "metadata": {},
   "outputs": [],
   "source": [
    "classifier = MultinomialNB().fit(X_train, y_train)"
   ]
  },
  {
   "cell_type": "code",
   "execution_count": 39,
   "id": "f464e1d3",
   "metadata": {},
   "outputs": [
    {
     "name": "stdout",
     "output_type": "stream",
     "text": [
      "              precision    recall  f1-score   support\n",
      "\n",
      "           0       1.00      1.00      1.00      3631\n",
      "           1       0.98      0.97      0.97       504\n",
      "\n",
      "    accuracy                           0.99      4135\n",
      "   macro avg       0.99      0.98      0.99      4135\n",
      "weighted avg       0.99      0.99      0.99      4135\n",
      "\n",
      "--------------------------------------------------\n",
      "Accuracy :  0.9939540507859734\n",
      "--------------------------------------------------\n",
      "Confusion Matrix:\n",
      "\n"
     ]
    },
    {
     "data": {
      "image/png": "[encoded data removed]",
      "text/plain": [
       "<Figure size 432x288 with 2 Axes>"
      ]
     },
     "metadata": {
      "needs_background": "light"
     },
     "output_type": "display_data"
    }
   ],
   "source": [
    "pred_train = classifier.predict(X_train)\n",
    "print(classification_report(y_train, pred_train))\n",
    "print('-'*50)\n",
    "print('Accuracy : ',accuracy_score(y_train, pred_train))\n",
    "print('-'*50)\n",
    "print('Confusion Matrix:\\n')\n",
    "plot_confusion_matrix(classifier, X_train, y_train,cmap=plt.cm.Blues);"
   ]
  },
  {
   "cell_type": "code",
   "execution_count": 40,
   "id": "261b10a3",
   "metadata": {},
   "outputs": [
    {
     "name": "stdout",
     "output_type": "stream",
     "text": [
      "              precision    recall  f1-score   support\n",
      "\n",
      "           0       0.99      0.99      0.99       885\n",
      "           1       0.91      0.93      0.92       149\n",
      "\n",
      "    accuracy                           0.98      1034\n",
      "   macro avg       0.95      0.96      0.95      1034\n",
      "weighted avg       0.98      0.98      0.98      1034\n",
      "\n",
      "--------------------------------------------------\n",
      "Accuracy :  0.97678916827853\n",
      "--------------------------------------------------\n",
      "Confusion Matrix:\n",
      "\n"
     ]
    },
    {
     "data": {
      "image/png": "[encoded data removed]",
      "text/plain": [
       "<Figure size 432x288 with 2 Axes>"
      ]
     },
     "metadata": {
      "needs_background": "light"
     },
     "output_type": "display_data"
    }
   ],
   "source": [
    "pred_test = classifier.predict(X_test)\n",
    "print(classification_report(y_test, pred_test))\n",
    "print('-'*50)\n",
    "print('Accuracy : ',accuracy_score(y_test, pred_test))\n",
    "print('-'*50)\n",
    "print('Confusion Matrix:\\n')\n",
    "plot_confusion_matrix(classifier, X_test, y_test,cmap=plt.cm.Blues);"
   ]
  },
  {
   "cell_type": "code",
   "execution_count": 41,
   "id": "f6b4f5d3",
   "metadata": {},
   "outputs": [
    {
     "name": "stdout",
     "output_type": "stream",
     "text": [
      "Actual Labels: [0 0 0 0 0 0 0 0 1 1]\n",
      "Predicted Labels: [0 0 0 0 0 0 0 0 1 1]\n"
     ]
    }
   ],
   "source": [
    "# print the actual values\n",
    "print('Actual Labels: {}'.format(y_test.iloc[0:10].values))\n",
    "\n",
    "# print the predictions\n",
    "print('Predicted Labels: {}'.format(pred_test[0:10]))"
   ]
  },
  {
   "cell_type": "code",
   "execution_count": 47,
   "id": "5b4dfbe5",
   "metadata": {},
   "outputs": [],
   "source": [
    "def sms(text):\n",
    "    # creating a list of labels\n",
    "    lab = ['not a spam','a spam'] \n",
    "    # perform tokenization\n",
    "    X = cv.transform(text).toarray()\n",
    "    # predict the text\n",
    "    p = classifier.predict(X)\n",
    "    # convert the words in string with the help of list\n",
    "    s = [str(i) for i in p]\n",
    "    a = int(''.join(s))\n",
    "    # show out the final result\n",
    "    res = str(\"This message is \"+ lab[a])\n",
    "    return res"
   ]
  },
  {
   "cell_type": "code",
   "execution_count": 48,
   "id": "08494171",
   "metadata": {},
   "outputs": [
    {
     "data": {
      "text/plain": [
       "'This message is not a spam'"
      ]
     },
     "execution_count": 48,
     "metadata": {},
     "output_type": "execute_result"
    }
   ],
   "source": [
    "sms(['Hey! I hope everything is fine. Take care!'])"
   ]
  },
  {
   "cell_type": "code",
   "execution_count": 44,
   "id": "1aee011b",
   "metadata": {},
   "outputs": [],
   "source": [
    "from tkinter import *\n",
    "import tkinter as tk\n",
    "gui = Tk()\n",
    "gui.configure(background= 'light yellow')\n",
    "gui.title('Spam Detection')\n",
    "gui.geometry('600x500')\n",
    "\n",
    "head = Label(gui,text = 'Type Your Message', font=('times',14,'bold'),bg='light yellow')\n",
    "head.pack()\n",
    "\n",
    "message = Entry(gui, width=400, borderwidth = 2)\n",
    "message.pack(ipady=50)\n",
    "result = Label(gui)\n",
    "def sms():\n",
    "    global result\n",
    "    result.destroy()\n",
    "    global message\n",
    "    text = message.get()\n",
    "    # creating a list of labels\n",
    "    lab = ['not a spam','a spam'] \n",
    "    \n",
    "    # perform tokenization\n",
    "    X = cv.transform([text]).toarray()\n",
    "    \n",
    "    # predict the text\n",
    "    p = classifier.predict(X)\n",
    "    \n",
    "    # convert the words in string with the help of list\n",
    "    s = [str(i) for i in p]\n",
    "    a = int(\"\".join(s))\n",
    "    \n",
    "    # show out the final result\n",
    "    res = str(\"This message is \"+ lab[a])\n",
    "    #print(text,res)\n",
    "    result = Label(gui,text=res,font=('times',18,'bold'),fg = 'blue',bg='light yellow')\n",
    "    result.pack()\n",
    "    \n",
    "b = Button(gui,text='Click To Check',font=('times',12,'bold'), fg = 'white',bg ='green',command = sms)\n",
    "b.pack()\n",
    "\n",
    "gui.mainloop()"
   ]
  },
  {
   "cell_type": "code",
   "execution_count": null,
   "id": "acf77116",
   "metadata": {},
   "outputs": [],
   "source": []
  }
 ],
 "metadata": {
  "kernelspec": {
   "display_name": "Python 3",
   "language": "python",
   "name": "python3"
  },
  "language_info": {
   "codemirror_mode": {
    "name": "ipython",
    "version": 3
   },
   "file_extension": ".py",
   "mimetype": "text/x-python",
   "name": "python",
   "nbconvert_exporter": "python",
   "pygments_lexer": "ipython3",
   "version": "3.7.3"
  }
 },
 "nbformat": 4,
 "nbformat_minor": 5
}
